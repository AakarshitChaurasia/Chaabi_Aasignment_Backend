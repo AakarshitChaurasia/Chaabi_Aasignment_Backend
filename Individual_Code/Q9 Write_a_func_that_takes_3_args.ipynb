{
 "cells": [
  {
   "cell_type": "markdown",
   "id": "735fd73a",
   "metadata": {},
   "source": [
    "Write a func that takes 3 args:\n",
    "from_date - string representing a date in the form of 'yy-mm-dd'\n",
    "to_date - string representing a date in the form of 'yy-mm-dd'\n",
    "difference - int\n",
    "Returns True if from_date and to_date are less than difference days away from each other, else\n",
    "returns False."
   ]
  },
  {
   "cell_type": "code",
   "execution_count": 1,
   "id": "00cef57f",
   "metadata": {},
   "outputs": [],
   "source": [
    "from datetime import datetime\n",
    "\n",
    "def f(from_date, to_date, difference):\n",
    "    from_date = datetime.strptime(from_date, '%y-%m-%d')\n",
    "    to_date = datetime.strptime(to_date, '%y-%m-%d')\n",
    "    delta = abs((to_date - from_date).days)\n",
    "    if delta <= difference:\n",
    "        return True\n",
    "    else:\n",
    "        return False"
   ]
  },
  {
   "cell_type": "code",
   "execution_count": 2,
   "id": "36c14619",
   "metadata": {
    "scrolled": true
   },
   "outputs": [
    {
     "name": "stdout",
     "output_type": "stream",
     "text": [
      "False\n"
     ]
    }
   ],
   "source": [
    "from_date = '15-01-01'\n",
    "to_date = '24-06-01'\n",
    "difference = 180\n",
    "result = f(from_date, to_date, difference)\n",
    "print(result)"
   ]
  }
 ],
 "metadata": {
  "kernelspec": {
   "display_name": "Python 3 (ipykernel)",
   "language": "python",
   "name": "python3"
  },
  "language_info": {
   "codemirror_mode": {
    "name": "ipython",
    "version": 3
   },
   "file_extension": ".py",
   "mimetype": "text/x-python",
   "name": "python",
   "nbconvert_exporter": "python",
   "pygments_lexer": "ipython3",
   "version": "3.10.9"
  }
 },
 "nbformat": 4,
 "nbformat_minor": 5
}
