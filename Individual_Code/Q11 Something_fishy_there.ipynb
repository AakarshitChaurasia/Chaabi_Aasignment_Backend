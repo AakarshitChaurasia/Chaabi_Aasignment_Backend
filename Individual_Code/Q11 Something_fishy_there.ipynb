{
 "cells": [
  {
   "cell_type": "raw",
   "id": "b794e491",
   "metadata": {},
   "source": [
    "Something fishy there -\n",
    "Find output of following:\n",
    "def f(x,l=[]):\n",
    "for i in range(x):\n",
    "l.append(i*i)\n",
    "print(l)\n",
    "f(2)\n",
    "f(3,[3,2,1])\n",
    "f(3)"
   ]
  },
  {
   "cell_type": "code",
   "execution_count": 1,
   "id": "f675810a",
   "metadata": {},
   "outputs": [],
   "source": [
    "def f(x,l=[]):\n",
    "    for i in range(x):\n",
    "        l.append(i*i)\n",
    "    print(l)"
   ]
  },
  {
   "cell_type": "code",
   "execution_count": 2,
   "id": "a1838bb2",
   "metadata": {},
   "outputs": [
    {
     "name": "stdout",
     "output_type": "stream",
     "text": [
      "[0, 1]\n"
     ]
    }
   ],
   "source": [
    "f(2) #Expected-Output: [0, 1]"
   ]
  },
  {
   "cell_type": "code",
   "execution_count": 3,
   "id": "d5e76ff0",
   "metadata": {},
   "outputs": [
    {
     "name": "stdout",
     "output_type": "stream",
     "text": [
      "[3, 2, 1, 0, 1, 4]\n"
     ]
    }
   ],
   "source": [
    "f(3,[3,2,1]) #Expected-Output: [3, 2, 1, 0, 1, 4]"
   ]
  },
  {
   "cell_type": "code",
   "execution_count": 4,
   "id": "2564e38d",
   "metadata": {},
   "outputs": [
    {
     "name": "stdout",
     "output_type": "stream",
     "text": [
      "[0, 1, 0, 1, 4]\n"
     ]
    }
   ],
   "source": [
    "f(3) #Expected-Output: [0, 1, 0, 1, 4]"
   ]
  }
 ],
 "metadata": {
  "kernelspec": {
   "display_name": "Python 3 (ipykernel)",
   "language": "python",
   "name": "python3"
  },
  "language_info": {
   "codemirror_mode": {
    "name": "ipython",
    "version": 3
   },
   "file_extension": ".py",
   "mimetype": "text/x-python",
   "name": "python",
   "nbconvert_exporter": "python",
   "pygments_lexer": "ipython3",
   "version": "3.10.9"
  }
 },
 "nbformat": 4,
 "nbformat_minor": 5
}
