{
 "cells": [
  {
   "cell_type": "markdown",
   "id": "a8e873a8",
   "metadata": {},
   "source": [
    "Common, Not Common\n",
    "Given 2 lists in input. Write a program to return the elements, which are common to both\n",
    "lists(set intersection) and those which are not common(set symmetric difference) between the\n",
    "lists.\n",
    "Input:\n",
    "Mainstream = [\"One Punch Man\",\"Attack On Titan\",\"One Piece\",\"Sword\n",
    "Art Online\",\"Bleach\",\"Dragon Ball Z\",\"One Piece\"]\n",
    "must_watch = [\"Full Metal Alchemist\",\"Code Geass\",\"Death\n",
    "Note\",\"Stein's Gate\",\"The Devil is a Part Timer!\",\"One Piece\",\"Attack\n",
    "On Titan\"]\n",
    "f(mainstream, must_watch) should return:\n",
    "[\"One Piece\", \"Attack On Titan\"], [\"Dragon Ball Z\", \"Death Note\",\n",
    "\"One Punch Man\", \"Stein's Gate\", \"The Devil is a Part Timer!\", \"Sword\n",
    "Art Online\",\"Full Metal Alchemist\",\"'Bleach\", \"Code Geass\"]"
   ]
  },
  {
   "cell_type": "code",
   "execution_count": 3,
   "id": "f0784b96",
   "metadata": {},
   "outputs": [],
   "source": [
    "def f(list1, list2):\n",
    "    common = list(set(list1) & set(list2))\n",
    "    not_common = list(set(list1) ^ set(list2))\n",
    "    return common, not_common"
   ]
  },
  {
   "cell_type": "code",
   "execution_count": 2,
   "id": "fae71ac9",
   "metadata": {},
   "outputs": [
    {
     "ename": "NameError",
     "evalue": "name 'Mainstream' is not defined",
     "output_type": "error",
     "traceback": [
      "\u001b[1;31m---------------------------------------------------------------------------\u001b[0m",
      "\u001b[1;31mNameError\u001b[0m                                 Traceback (most recent call last)",
      "Cell \u001b[1;32mIn[2], line 1\u001b[0m\n\u001b[1;32m----> 1\u001b[0m common, not_common \u001b[38;5;241m=\u001b[39m f(\u001b[43mMainstream\u001b[49m, must_watch)\n\u001b[0;32m      2\u001b[0m \u001b[38;5;28mprint\u001b[39m(common) \u001b[38;5;66;03m# should print [\"One Piece\", \"Attack On Titan\"]\u001b[39;00m\n\u001b[0;32m      3\u001b[0m \u001b[38;5;28mprint\u001b[39m(not_common)\n",
      "\u001b[1;31mNameError\u001b[0m: name 'Mainstream' is not defined"
     ]
    }
   ],
   "source": [
    "Mainstream = [\"One Punch Man\", \"Attack On Titan\", \"One Piece\", \"Sword Art Online\", \"Bleach\", \"Dragon Ball Z\", \"One Piece\"]\n",
    "must_watch = [\"Full Metal Alchemist\", \"Code Geass\", \"Death Note\", \"Stein's Gate\", \"The Devil is a Part Timer!\", \"One Piece\", \"Attack On Titan\"]\n",
    "\n",
    "common, not_common = f(Mainstream, must_watch)\n",
    "print(common) # should print [\"One Piece\", \"Attack On Titan\"]\n",
    "print(not_common) # should print [\"Dragon Ball Z\", \"Death Note\", \"One Punch Man\", \"Stein's Gate\", \"The Devil is a Part Timer!\", \"Sword Art Online\", \"Full Metal Alchemist\", \"'Bleach\", \"Code Geass\"]\n"
   ]
  },
  {
   "cell_type": "code",
   "execution_count": null,
   "id": "398b8f6e",
   "metadata": {},
   "outputs": [],
   "source": []
  }
 ],
 "metadata": {
  "kernelspec": {
   "display_name": "Python 3 (ipykernel)",
   "language": "python",
   "name": "python3"
  },
  "language_info": {
   "codemirror_mode": {
    "name": "ipython",
    "version": 3
   },
   "file_extension": ".py",
   "mimetype": "text/x-python",
   "name": "python",
   "nbconvert_exporter": "python",
   "pygments_lexer": "ipython3",
   "version": "3.10.9"
  }
 },
 "nbformat": 4,
 "nbformat_minor": 5
}
