{
 "cells": [
  {
   "cell_type": "markdown",
   "id": "220ef8d2",
   "metadata": {},
   "source": [
    "Write a program that returns the file type from a file name. The type of the file is determined\n",
    "from the extension. Initially, a list of values of the form \"extension,type\"(e.g. xls,spreadsheet;\n",
    "png,image) will be input.\n",
    "The program takes input in the following form:\n",
    "1. Input extension and type values in the form of a string having the following format:\n",
    "a. \"extension1,type1;extension2,type2;extension3,type3\"\n",
    "b. E.g. If we needed to input xls → spreadsheet, xlsx → spreadsheet, jpg → image\n",
    "our string would be something like: \"xls,spreadsheet;xlsx,spreadsheet;jpg,image\"\n",
    "2. Input a list of filename.extension. E.g. an input list could be something like [\"abc.html\",\n",
    "\"xyz.xls\", \"text.csv\", \"123\"]\n",
    "The program should return a dict of filename: type pairs\n",
    "E.g.\n",
    "f(\"xls,spreadsheet;xlsx,spreadsheet;jpg,image\", [\"abc.jpg\",\n",
    "\"xyz.xls\", \"text.csv\", \"123\"]) should return\n",
    "{\n",
    "\"abc.jpg\": \"image\",\n",
    "\"xyz.xls\": \"spreadsheet\",\n",
    "\"Text.csv\": \"unknown\",\n",
    "\"123\": \"unknown\"\n",
    "}"
   ]
  },
  {
   "cell_type": "code",
   "execution_count": 1,
   "id": "9a7ff144",
   "metadata": {},
   "outputs": [],
   "source": [
    "def f(extension_type_string, file_list):\n",
    "    extension_type_pairs = extension_type_string.split(';')\n",
    "    extension_to_type = {}\n",
    "    for pair in extension_type_pairs:\n",
    "        extension, file_type = pair.split(',')\n",
    "        extension_to_type[extension] = file_type\n",
    "    \n",
    "    file_type_dict = {}\n",
    "    for file_name in file_list:\n",
    "        if '.' not in file_name:\n",
    "            file_type_dict[file_name] = 'unknown'\n",
    "        else:\n",
    "            extension = file_name.split('.')[-1]\n",
    "            if extension in extension_to_type:\n",
    "                file_type_dict[file_name] = extension_to_type[extension]\n",
    "            else:\n",
    "                file_type_dict[file_name] = 'unknown'\n",
    "    \n",
    "    return file_type_dict"
   ]
  },
  {
   "cell_type": "code",
   "execution_count": 2,
   "id": "77f69649",
   "metadata": {},
   "outputs": [
    {
     "data": {
      "text/plain": [
       "{'abc.jpg': 'image',\n",
       " 'xyz.xls': 'spreadsheet',\n",
       " 'text.csv': 'unknown',\n",
       " '123': 'unknown'}"
      ]
     },
     "execution_count": 2,
     "metadata": {},
     "output_type": "execute_result"
    }
   ],
   "source": [
    "f(\"xls,spreadsheet;xlsx,spreadsheet;jpg,image\", [\"abc.jpg\",\n",
    "\"xyz.xls\", \"text.csv\", \"123\"])"
   ]
  },
  {
   "cell_type": "code",
   "execution_count": null,
   "id": "c41ea809",
   "metadata": {},
   "outputs": [],
   "source": []
  }
 ],
 "metadata": {
  "kernelspec": {
   "display_name": "Python 3 (ipykernel)",
   "language": "python",
   "name": "python3"
  },
  "language_info": {
   "codemirror_mode": {
    "name": "ipython",
    "version": 3
   },
   "file_extension": ".py",
   "mimetype": "text/x-python",
   "name": "python",
   "nbconvert_exporter": "python",
   "pygments_lexer": "ipython3",
   "version": "3.10.9"
  }
 },
 "nbformat": 4,
 "nbformat_minor": 5
}
