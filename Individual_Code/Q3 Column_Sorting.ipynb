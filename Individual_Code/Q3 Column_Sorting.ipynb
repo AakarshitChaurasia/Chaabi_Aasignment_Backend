{
 "cells": [
  {
   "cell_type": "markdown",
   "id": "bda75e42",
   "metadata": {},
   "source": [
    "Column Sorting, yay!\n",
    "\n",
    "Given a list of dicts, write a program to sort the list according to a key given in input.\n",
    "E.g.\n",
    "Input f([\n",
    "{\"fruit\": \"orange\", \"color\": \"orange\"},\n",
    "{\"fruit\": \"apple\", \"color\": \"red\"},\n",
    "{\"fruit\": \"banana\", \"color\": \"yellow\"},\n",
    "{\"fruit\": \"blueberry\", \"color\": \"blue\"}\n",
    "], \"fruit\")\n",
    "Should Output\n",
    "[\n",
    "{\"fruit\": \"apple\", \"color\": \"red\"},\n",
    "{\"fruit\": \"banana\", \"color\": \"yellow\"},\n",
    "{\"fruit\": \"blueberry\", \"color\": \"blue\"},\n",
    "{\"fruit\": \"orange\", \"color\": \"orange\"}\n",
    "]\n",
    "AND\n",
    "Input f([\n",
    "{\"fruit\": \"orange\", \"color\": \"orange\"},\n",
    "{\"fruit\": \"apple\", \"color\": \"red\"},\n",
    "{\"fruit\": \"banana\", \"color\": \"yellow\"},\n",
    "{\"fruit\": \"blueberry\", \"color\": \"blue\"}\n",
    "], \"color\")\n",
    "Should Output\n",
    "[\n",
    "{\"fruit\": \"blueberry\", \"color\": \"blue\"},\n",
    "{\"fruit\": \"orange\", \"color\": \"orange\"},\n",
    "{\"fruit\": \"apple\", \"color\": \"red\"},\n",
    "{\"fruit\": \"banana\", \"color\": \"yellow\"}\n",
    "]"
   ]
  },
  {
   "cell_type": "code",
   "execution_count": 1,
   "id": "6a96f5f4",
   "metadata": {},
   "outputs": [],
   "source": [
    "def f(lst, key):\n",
    "    return sorted(lst, key=lambda x: x[key])\n",
    "\n",
    "lst = [\n",
    "    {\"fruit\": \"orange\", \"color\": \"orange\"},\n",
    "    {\"fruit\": \"apple\", \"color\": \"red\"},\n",
    "    {\"fruit\": \"banana\", \"color\": \"yellow\"},\n",
    "    {\"fruit\": \"blueberry\", \"color\": \"blue\"}\n",
    "]"
   ]
  },
  {
   "cell_type": "code",
   "execution_count": 2,
   "id": "1618dfe7",
   "metadata": {},
   "outputs": [
    {
     "name": "stdout",
     "output_type": "stream",
     "text": [
      "[{'fruit': 'apple', 'color': 'red'}, {'fruit': 'banana', 'color': 'yellow'}, {'fruit': 'blueberry', 'color': 'blue'}, {'fruit': 'orange', 'color': 'orange'}]\n"
     ]
    }
   ],
   "source": [
    "sorted_lst = f(lst, \"fruit\")\n",
    "print(sorted_lst)"
   ]
  },
  {
   "cell_type": "code",
   "execution_count": 3,
   "id": "7eb78540",
   "metadata": {
    "scrolled": true
   },
   "outputs": [
    {
     "name": "stdout",
     "output_type": "stream",
     "text": [
      "[{'fruit': 'blueberry', 'color': 'blue'}, {'fruit': 'orange', 'color': 'orange'}, {'fruit': 'apple', 'color': 'red'}, {'fruit': 'banana', 'color': 'yellow'}]\n"
     ]
    }
   ],
   "source": [
    "sorted_lst = f(lst, \"color\")\n",
    "print(sorted_lst)"
   ]
  }
 ],
 "metadata": {
  "kernelspec": {
   "display_name": "Python 3 (ipykernel)",
   "language": "python",
   "name": "python3"
  },
  "language_info": {
   "codemirror_mode": {
    "name": "ipython",
    "version": 3
   },
   "file_extension": ".py",
   "mimetype": "text/x-python",
   "name": "python",
   "nbconvert_exporter": "python",
   "pygments_lexer": "ipython3",
   "version": "3.10.9"
  }
 },
 "nbformat": 4,
 "nbformat_minor": 5
}
