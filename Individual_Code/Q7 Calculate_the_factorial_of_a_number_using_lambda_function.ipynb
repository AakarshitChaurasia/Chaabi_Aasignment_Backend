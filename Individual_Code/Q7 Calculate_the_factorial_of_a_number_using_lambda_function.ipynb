{
 "cells": [
  {
   "cell_type": "markdown",
   "id": "5c72510a",
   "metadata": {},
   "source": [
    "Calculate the factorial of a number using lambda function."
   ]
  },
  {
   "cell_type": "code",
   "execution_count": 1,
   "id": "ed83f3fa",
   "metadata": {},
   "outputs": [],
   "source": [
    "factorial = lambda n: 1 if n == 0 else n * factorial(n-1)"
   ]
  },
  {
   "cell_type": "code",
   "execution_count": 2,
   "id": "389d6a1e",
   "metadata": {},
   "outputs": [
    {
     "name": "stdout",
     "output_type": "stream",
     "text": [
      "120\n"
     ]
    }
   ],
   "source": [
    "n = 5\n",
    "print(factorial(n))"
   ]
  }
 ],
 "metadata": {
  "kernelspec": {
   "display_name": "Python 3 (ipykernel)",
   "language": "python",
   "name": "python3"
  },
  "language_info": {
   "codemirror_mode": {
    "name": "ipython",
    "version": 3
   },
   "file_extension": ".py",
   "mimetype": "text/x-python",
   "name": "python",
   "nbconvert_exporter": "python",
   "pygments_lexer": "ipython3",
   "version": "3.10.9"
  }
 },
 "nbformat": 4,
 "nbformat_minor": 5
}
