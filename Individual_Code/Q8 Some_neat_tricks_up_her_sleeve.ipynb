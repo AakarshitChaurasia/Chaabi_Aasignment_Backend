{
 "cells": [
  {
   "cell_type": "raw",
   "id": "eb75e289",
   "metadata": {},
   "source": [
    "Some neat tricks up her sleeve:\n",
    "Looking at the below code, write down the final values of A0, A1, ...An\n",
    "A0 = dict(zip(('a','b','c','d','e'),(1,2,3,4,5)))\n",
    "A1 = range(10)\n",
    "A2 = sorted([i for i in A1 if i in A0])\n",
    "A3 = sorted([A0[s] for s in A0])\n",
    "A4 = [i for i in A1 if i in A3]\n",
    "A5 = {i:i*i for i in A1}\n",
    "A6 = [[i,i*i] for i in A1]\n",
    "A7 = reduce(lambda x,y: x+y, [10,23, -45, 33])\n",
    "A8 = map(lambda x: x*2, [1,2,3,4])\n",
    "A9 = filter(lambda x: len(x) >3, [“I” , “want”, “to”, “learn”, “python”])"
   ]
  },
  {
   "cell_type": "markdown",
   "id": "4b06eca4",
   "metadata": {},
   "source": [
    "Answer"
   ]
  },
  {
   "cell_type": "raw",
   "id": "57f27096",
   "metadata": {},
   "source": [
    "A0 = {'a': 1, 'b': 2, 'c': 3, 'd': 4, 'e': 5}\n",
    "A1 = range(0, 10) # A sequence of numbers from 0 to 9\n",
    "A2 = [] # An empty list since no element in A1 is present in A0\n",
    "A3 = [1, 2, 3, 4, 5] # A list of values corresponding to keys in A0\n",
    "A4 = [] # An empty list since no element in A1 is present in A3\n",
    "A5 = {0: 0, 1: 1, 2: 4, 3: 9, 4: 16, 5: 25, 6: 36, 7: 49, 8: 64, 9: 81} # A dictionary of square values for each number in A1\n",
    "A6 = [[0, 0], [1, 1], [2, 4], [3, 9], [4, 16], [5, 25], [6, 36], [7, 49], [8, 64], [9, 81]] # A nested list of each number in A1 along with its square value\n",
    "A7 = 21 # The sum of all elements in the given list [10,23, -45, 33]\n",
    "A8 = [2, 4, 6, 8] # A list of each element in the original list multiplied by 2\n",
    "A9 = ['want', 'learn', 'python'] # A list of all elements in the original list that have length greater than 3."
   ]
  }
 ],
 "metadata": {
  "kernelspec": {
   "display_name": "Python 3 (ipykernel)",
   "language": "python",
   "name": "python3"
  },
  "language_info": {
   "codemirror_mode": {
    "name": "ipython",
    "version": 3
   },
   "file_extension": ".py",
   "mimetype": "text/x-python",
   "name": "python",
   "nbconvert_exporter": "python",
   "pygments_lexer": "ipython3",
   "version": "3.10.9"
  }
 },
 "nbformat": 4,
 "nbformat_minor": 5
}
