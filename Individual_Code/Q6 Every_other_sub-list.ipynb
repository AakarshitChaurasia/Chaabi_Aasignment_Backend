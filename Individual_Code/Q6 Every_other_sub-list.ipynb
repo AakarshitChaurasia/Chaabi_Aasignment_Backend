{
 "cells": [
  {
   "cell_type": "markdown",
   "id": "40dc3b00",
   "metadata": {},
   "source": [
    "Given a list and 2 indices as input, return the sub-list enclosed within these 2 indices. It should\n",
    "contain every second element.\n",
    "E.g.\n",
    "Input f([2,3,5,7,11,13,17,19,23,29,31,37,41], 2, 9)\n",
    "Return [5, 11, 17, 23]"
   ]
  },
  {
   "cell_type": "code",
   "execution_count": 1,
   "id": "5c9879d5",
   "metadata": {},
   "outputs": [],
   "source": [
    "def f(lst, start, end):\n",
    "    return lst[start:end:2]"
   ]
  },
  {
   "cell_type": "code",
   "execution_count": 2,
   "id": "0ccb3864",
   "metadata": {
    "scrolled": true
   },
   "outputs": [
    {
     "name": "stdout",
     "output_type": "stream",
     "text": [
      "[5, 11, 17, 23]\n"
     ]
    }
   ],
   "source": [
    "lst = [2,3,5,7,11,13,17,19,23,29,31,37,41]\n",
    "sub_lst = f(lst, 2, 9)\n",
    "print(sub_lst)"
   ]
  }
 ],
 "metadata": {
  "kernelspec": {
   "display_name": "Python 3 (ipykernel)",
   "language": "python",
   "name": "python3"
  },
  "language_info": {
   "codemirror_mode": {
    "name": "ipython",
    "version": 3
   },
   "file_extension": ".py",
   "mimetype": "text/x-python",
   "name": "python",
   "nbconvert_exporter": "python",
   "pygments_lexer": "ipython3",
   "version": "3.10.9"
  }
 },
 "nbformat": 4,
 "nbformat_minor": 5
}
