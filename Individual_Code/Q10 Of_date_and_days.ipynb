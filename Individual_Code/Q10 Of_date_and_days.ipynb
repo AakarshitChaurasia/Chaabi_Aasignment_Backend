{
 "cells": [
  {
   "cell_type": "markdown",
   "id": "f1a90cee",
   "metadata": {},
   "source": [
    "Of date and days\n",
    "Write a func that takes 2 args:\n",
    "date - string representing a date in the form of 'yy-mm-dd'\n",
    "n - integer\n",
    "Returns the string representation of date n days before 'date'\n",
    "E.g. f('16-12-10', 11) should return '16-11-29'"
   ]
  },
  {
   "cell_type": "code",
   "execution_count": 1,
   "id": "e813ffba",
   "metadata": {},
   "outputs": [],
   "source": [
    "from datetime import datetime, timedelta\n",
    "\n",
    "def f(date, n):\n",
    "    date_obj = datetime.strptime(date, '%y-%m-%d')\n",
    "    new_date = date_obj - timedelta(days=n)\n",
    "    return datetime.strftime(new_date, '%y-%m-%d')"
   ]
  },
  {
   "cell_type": "code",
   "execution_count": 2,
   "id": "aea8d4dc",
   "metadata": {
    "scrolled": true
   },
   "outputs": [
    {
     "name": "stdout",
     "output_type": "stream",
     "text": [
      "16-11-29\n"
     ]
    }
   ],
   "source": [
    "date = '16-12-10'\n",
    "n = 11\n",
    "result = f(date, n)\n",
    "print(result)"
   ]
  }
 ],
 "metadata": {
  "kernelspec": {
   "display_name": "Python 3 (ipykernel)",
   "language": "python",
   "name": "python3"
  },
  "language_info": {
   "codemirror_mode": {
    "name": "ipython",
    "version": 3
   },
   "file_extension": ".py",
   "mimetype": "text/x-python",
   "name": "python",
   "nbconvert_exporter": "python",
   "pygments_lexer": "ipython3",
   "version": "3.10.9"
  }
 },
 "nbformat": 4,
 "nbformat_minor": 5
}
