{
 "cells": [
  {
   "cell_type": "markdown",
   "id": "d516bce8",
   "metadata": {},
   "source": [
    "The power of one line -\n",
    "Given a dictionary, switch position of key and values in the dict, i.e., value becomes the key and\n",
    "key becomes value. The function's body shouldn't have more than one statement.\n",
    "f({\n",
    "\"key1\": \"value1\",\n",
    "\"key2\": \"value2\",\n",
    "\"key3\": \"value3\",\n",
    "\"key4\": \"value4\",\n",
    "\"key5\": \"value5\"\n",
    "}) should return\n",
    "{\n",
    "\"value1\": \"key1\",\n",
    "\"value2\": \"key2\",\n",
    "\"value3\": \"key3\",\n",
    "\"value4\": \"key4\",\n",
    "\"value5\": \"key5\"\n",
    "}"
   ]
  },
  {
   "cell_type": "code",
   "execution_count": 1,
   "id": "e43da7d1",
   "metadata": {},
   "outputs": [],
   "source": [
    "def f(d):\n",
    "    return {v: k for k, v in d.items()}"
   ]
  },
  {
   "cell_type": "code",
   "execution_count": 2,
   "id": "177ba578",
   "metadata": {},
   "outputs": [],
   "source": [
    "# Example usage\n",
    "input_dict = {\n",
    "    \"key1\": \"value1\",\n",
    "    \"key2\": \"value2\",\n",
    "    \"key3\": \"value3\",\n",
    "    \"key4\": \"value4\",\n",
    "    \"key5\": \"value5\"\n",
    "}"
   ]
  },
  {
   "cell_type": "code",
   "execution_count": 3,
   "id": "1b9b4445",
   "metadata": {},
   "outputs": [
    {
     "name": "stdout",
     "output_type": "stream",
     "text": [
      "{'value1': 'key1', 'value2': 'key2', 'value3': 'key3', 'value4': 'key4', 'value5': 'key5'}\n"
     ]
    }
   ],
   "source": [
    "output_dict = f(input_dict)\n",
    "print(output_dict)"
   ]
  }
 ],
 "metadata": {
  "kernelspec": {
   "display_name": "Python 3 (ipykernel)",
   "language": "python",
   "name": "python3"
  },
  "language_info": {
   "codemirror_mode": {
    "name": "ipython",
    "version": 3
   },
   "file_extension": ".py",
   "mimetype": "text/x-python",
   "name": "python",
   "nbconvert_exporter": "python",
   "pygments_lexer": "ipython3",
   "version": "3.10.9"
  }
 },
 "nbformat": 4,
 "nbformat_minor": 5
}
