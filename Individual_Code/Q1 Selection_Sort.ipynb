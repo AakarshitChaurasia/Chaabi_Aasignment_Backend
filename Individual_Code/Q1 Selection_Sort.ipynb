{
 "cells": [
  {
   "cell_type": "markdown",
   "id": "0ee14c40",
   "metadata": {},
   "source": [
    "Get your basics right - Implement selection sort algorithm in python. The function accepts a\n",
    "list in the input and returns a sorted list.\n",
    "E.g.\n",
    "Input f1([5,416,54,21,6135,15,741]) should\n",
    "Return [5, 15, 21, 54, 416, 741, 6135]"
   ]
  },
  {
   "cell_type": "code",
   "execution_count": 1,
   "id": "0921e4e6",
   "metadata": {},
   "outputs": [],
   "source": [
    "def f1(arr):\n",
    "    n = len(arr)\n",
    "    for i in range(n):\n",
    "        min_index = i\n",
    "        for j in range(i+1, n):\n",
    "            if arr[j] < arr[min_index]:\n",
    "                min_index = j\n",
    "        arr[i], arr[min_index] = arr[min_index], arr[i]\n",
    "    return arr"
   ]
  },
  {
   "cell_type": "code",
   "execution_count": 2,
   "id": "696e6656",
   "metadata": {},
   "outputs": [
    {
     "data": {
      "text/plain": [
       "[5, 15, 21, 54, 416, 741, 6135]"
      ]
     },
     "execution_count": 2,
     "metadata": {},
     "output_type": "execute_result"
    }
   ],
   "source": [
    "f1([5,416,54,21,6135,15,741])"
   ]
  }
 ],
 "metadata": {
  "kernelspec": {
   "display_name": "Python 3 (ipykernel)",
   "language": "python",
   "name": "python3"
  },
  "language_info": {
   "codemirror_mode": {
    "name": "ipython",
    "version": 3
   },
   "file_extension": ".py",
   "mimetype": "text/x-python",
   "name": "python",
   "nbconvert_exporter": "python",
   "pygments_lexer": "ipython3",
   "version": "3.10.9"
  }
 },
 "nbformat": 4,
 "nbformat_minor": 5
}
