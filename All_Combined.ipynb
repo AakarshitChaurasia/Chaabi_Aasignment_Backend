{
 "cells": [
  {
   "cell_type": "markdown",
   "id": "e8e8f4c4",
   "metadata": {},
   "source": [
    "# Q1"
   ]
  },
  {
   "cell_type": "markdown",
   "id": "b94d0afb",
   "metadata": {},
   "source": [
    "Get your basics right - Implement selection sort algorithm in python. The function accepts a\n",
    "list in the input and returns a sorted list.\n",
    "E.g.\n",
    "Input f1([5,416,54,21,6135,15,741]) should\n",
    "Return [5, 15, 21, 54, 416, 741, 6135]"
   ]
  },
  {
   "cell_type": "code",
   "execution_count": 1,
   "id": "4adda9e0",
   "metadata": {},
   "outputs": [],
   "source": [
    "def f1(arr):\n",
    "    n = len(arr)\n",
    "    for i in range(n):\n",
    "        min_index = i\n",
    "        for j in range(i+1, n):\n",
    "            if arr[j] < arr[min_index]:\n",
    "                min_index = j\n",
    "        arr[i], arr[min_index] = arr[min_index], arr[i]\n",
    "    return arr"
   ]
  },
  {
   "cell_type": "code",
   "execution_count": 2,
   "id": "3ff5f776",
   "metadata": {
    "scrolled": true
   },
   "outputs": [
    {
     "data": {
      "text/plain": [
       "[5, 15, 21, 54, 416, 741, 6135]"
      ]
     },
     "execution_count": 2,
     "metadata": {},
     "output_type": "execute_result"
    }
   ],
   "source": [
    "f1([5,416,54,21,6135,15,741])"
   ]
  },
  {
   "cell_type": "markdown",
   "id": "ae13d38b",
   "metadata": {},
   "source": [
    "# Q2"
   ]
  },
  {
   "cell_type": "markdown",
   "id": "20189331",
   "metadata": {},
   "source": [
    "Write a program that returns the file type from a file name. The type of the file is determined\n",
    "from the extension. Initially, a list of values of the form \"extension,type\"(e.g. xls,spreadsheet;\n",
    "png,image) will be input.\n",
    "The program takes input in the following form:\n",
    "1. Input extension and type values in the form of a string having the following format:\n",
    "a. \"extension1,type1;extension2,type2;extension3,type3\"\n",
    "b. E.g. If we needed to input xls → spreadsheet, xlsx → spreadsheet, jpg → image\n",
    "our string would be something like: \"xls,spreadsheet;xlsx,spreadsheet;jpg,image\"\n",
    "2. Input a list of filename.extension. E.g. an input list could be something like [\"abc.html\",\n",
    "\"xyz.xls\", \"text.csv\", \"123\"]\n",
    "The program should return a dict of filename: type pairs\n",
    "E.g.\n",
    "f(\"xls,spreadsheet;xlsx,spreadsheet;jpg,image\", [\"abc.jpg\",\n",
    "\"xyz.xls\", \"text.csv\", \"123\"]) should return\n",
    "{\n",
    "\"abc.jpg\": \"image\",\n",
    "\"xyz.xls\": \"spreadsheet\",\n",
    "\"Text.csv\": \"unknown\",\n",
    "\"123\": \"unknown\"\n",
    "}"
   ]
  },
  {
   "cell_type": "code",
   "execution_count": 3,
   "id": "9f14c943",
   "metadata": {},
   "outputs": [],
   "source": [
    "def f(extension_type_string, file_list):\n",
    "    extension_type_pairs = extension_type_string.split(';')\n",
    "    extension_to_type = {}\n",
    "    for pair in extension_type_pairs:\n",
    "        extension, file_type = pair.split(',')\n",
    "        extension_to_type[extension] = file_type\n",
    "    \n",
    "    file_type_dict = {}\n",
    "    for file_name in file_list:\n",
    "        if '.' not in file_name:\n",
    "            file_type_dict[file_name] = 'unknown'\n",
    "        else:\n",
    "            extension = file_name.split('.')[-1]\n",
    "            if extension in extension_to_type:\n",
    "                file_type_dict[file_name] = extension_to_type[extension]\n",
    "            else:\n",
    "                file_type_dict[file_name] = 'unknown'\n",
    "    \n",
    "    return file_type_dict"
   ]
  },
  {
   "cell_type": "code",
   "execution_count": 4,
   "id": "58bed491",
   "metadata": {},
   "outputs": [
    {
     "data": {
      "text/plain": [
       "{'abc.jpg': 'image',\n",
       " 'xyz.xls': 'spreadsheet',\n",
       " 'text.csv': 'unknown',\n",
       " '123': 'unknown'}"
      ]
     },
     "execution_count": 4,
     "metadata": {},
     "output_type": "execute_result"
    }
   ],
   "source": [
    "f(\"xls,spreadsheet;xlsx,spreadsheet;jpg,image\", [\"abc.jpg\",\n",
    "\"xyz.xls\", \"text.csv\", \"123\"])"
   ]
  },
  {
   "cell_type": "markdown",
   "id": "64df08cd",
   "metadata": {},
   "source": [
    "# Q3"
   ]
  },
  {
   "cell_type": "markdown",
   "id": "5ba46dbc",
   "metadata": {},
   "source": [
    "Column Sorting, yay!\n",
    "\n",
    "Given a list of dicts, write a program to sort the list according to a key given in input.\n",
    "E.g.\n",
    "Input f([\n",
    "{\"fruit\": \"orange\", \"color\": \"orange\"},\n",
    "{\"fruit\": \"apple\", \"color\": \"red\"},\n",
    "{\"fruit\": \"banana\", \"color\": \"yellow\"},\n",
    "{\"fruit\": \"blueberry\", \"color\": \"blue\"}\n",
    "], \"fruit\")\n",
    "Should Output\n",
    "[\n",
    "{\"fruit\": \"apple\", \"color\": \"red\"},\n",
    "{\"fruit\": \"banana\", \"color\": \"yellow\"},\n",
    "{\"fruit\": \"blueberry\", \"color\": \"blue\"},\n",
    "{\"fruit\": \"orange\", \"color\": \"orange\"}\n",
    "]\n",
    "AND\n",
    "Input f([\n",
    "{\"fruit\": \"orange\", \"color\": \"orange\"},\n",
    "{\"fruit\": \"apple\", \"color\": \"red\"},\n",
    "{\"fruit\": \"banana\", \"color\": \"yellow\"},\n",
    "{\"fruit\": \"blueberry\", \"color\": \"blue\"}\n",
    "], \"color\")\n",
    "Should Output\n",
    "[\n",
    "{\"fruit\": \"blueberry\", \"color\": \"blue\"},\n",
    "{\"fruit\": \"orange\", \"color\": \"orange\"},\n",
    "{\"fruit\": \"apple\", \"color\": \"red\"},\n",
    "{\"fruit\": \"banana\", \"color\": \"yellow\"}\n",
    "]"
   ]
  },
  {
   "cell_type": "code",
   "execution_count": 5,
   "id": "48553cc5",
   "metadata": {},
   "outputs": [],
   "source": [
    "def f(lst, key):\n",
    "    return sorted(lst, key=lambda x: x[key])\n",
    "\n",
    "lst = [\n",
    "    {\"fruit\": \"orange\", \"color\": \"orange\"},\n",
    "    {\"fruit\": \"apple\", \"color\": \"red\"},\n",
    "    {\"fruit\": \"banana\", \"color\": \"yellow\"},\n",
    "    {\"fruit\": \"blueberry\", \"color\": \"blue\"}\n",
    "]"
   ]
  },
  {
   "cell_type": "code",
   "execution_count": 6,
   "id": "2b9532cf",
   "metadata": {},
   "outputs": [
    {
     "name": "stdout",
     "output_type": "stream",
     "text": [
      "[{'fruit': 'apple', 'color': 'red'}, {'fruit': 'banana', 'color': 'yellow'}, {'fruit': 'blueberry', 'color': 'blue'}, {'fruit': 'orange', 'color': 'orange'}]\n"
     ]
    }
   ],
   "source": [
    "sorted_lst = f(lst, \"fruit\")\n",
    "print(sorted_lst)"
   ]
  },
  {
   "cell_type": "code",
   "execution_count": 7,
   "id": "838c19a3",
   "metadata": {
    "scrolled": true
   },
   "outputs": [
    {
     "name": "stdout",
     "output_type": "stream",
     "text": [
      "[{'fruit': 'blueberry', 'color': 'blue'}, {'fruit': 'orange', 'color': 'orange'}, {'fruit': 'apple', 'color': 'red'}, {'fruit': 'banana', 'color': 'yellow'}]\n"
     ]
    }
   ],
   "source": [
    "sorted_lst = f(lst, \"color\")\n",
    "print(sorted_lst)"
   ]
  },
  {
   "cell_type": "markdown",
   "id": "6ace3c84",
   "metadata": {},
   "source": [
    "# Q4"
   ]
  },
  {
   "cell_type": "markdown",
   "id": "1f4e94bb",
   "metadata": {},
   "source": [
    "The power of one line -\n",
    "Given a dictionary, switch position of key and values in the dict, i.e., value becomes the key and\n",
    "key becomes value. The function's body shouldn't have more than one statement.\n",
    "f({\n",
    "\"key1\": \"value1\",\n",
    "\"key2\": \"value2\",\n",
    "\"key3\": \"value3\",\n",
    "\"key4\": \"value4\",\n",
    "\"key5\": \"value5\"\n",
    "}) should return\n",
    "{\n",
    "\"value1\": \"key1\",\n",
    "\"value2\": \"key2\",\n",
    "\"value3\": \"key3\",\n",
    "\"value4\": \"key4\",\n",
    "\"value5\": \"key5\"\n",
    "}"
   ]
  },
  {
   "cell_type": "code",
   "execution_count": 8,
   "id": "e27a994f",
   "metadata": {},
   "outputs": [],
   "source": [
    "def f(d):\n",
    "    return {v: k for k, v in d.items()}"
   ]
  },
  {
   "cell_type": "code",
   "execution_count": 9,
   "id": "3a6ca75f",
   "metadata": {},
   "outputs": [],
   "source": [
    "# Example usage\n",
    "input_dict = {\n",
    "    \"key1\": \"value1\",\n",
    "    \"key2\": \"value2\",\n",
    "    \"key3\": \"value3\",\n",
    "    \"key4\": \"value4\",\n",
    "    \"key5\": \"value5\"\n",
    "}"
   ]
  },
  {
   "cell_type": "code",
   "execution_count": 10,
   "id": "7800181f",
   "metadata": {},
   "outputs": [
    {
     "name": "stdout",
     "output_type": "stream",
     "text": [
      "{'value1': 'key1', 'value2': 'key2', 'value3': 'key3', 'value4': 'key4', 'value5': 'key5'}\n"
     ]
    }
   ],
   "source": [
    "output_dict = f(input_dict)\n",
    "print(output_dict)"
   ]
  },
  {
   "cell_type": "markdown",
   "id": "38ee9003",
   "metadata": {},
   "source": [
    "# Q5"
   ]
  },
  {
   "cell_type": "markdown",
   "id": "938402a0",
   "metadata": {},
   "source": [
    "Common, Not Common\n",
    "Given 2 lists in input. Write a program to return the elements, which are common to both\n",
    "lists(set intersection) and those which are not common(set symmetric difference) between the\n",
    "lists.\n",
    "Input:\n",
    "Mainstream = [\"One Punch Man\",\"Attack On Titan\",\"One Piece\",\"Sword\n",
    "Art Online\",\"Bleach\",\"Dragon Ball Z\",\"One Piece\"]\n",
    "must_watch = [\"Full Metal Alchemist\",\"Code Geass\",\"Death\n",
    "Note\",\"Stein's Gate\",\"The Devil is a Part Timer!\",\"One Piece\",\"Attack\n",
    "On Titan\"]\n",
    "f(mainstream, must_watch) should return:\n",
    "[\"One Piece\", \"Attack On Titan\"], [\"Dragon Ball Z\", \"Death Note\",\n",
    "\"One Punch Man\", \"Stein's Gate\", \"The Devil is a Part Timer!\", \"Sword\n",
    "Art Online\",\"Full Metal Alchemist\",\"'Bleach\", \"Code Geass\"]"
   ]
  },
  {
   "cell_type": "code",
   "execution_count": 11,
   "id": "2db9e8e7",
   "metadata": {},
   "outputs": [],
   "source": [
    "def f(list1, list2):\n",
    "    common = list(set(list1) & set(list2))\n",
    "    not_common = list(set(list1) ^ set(list2))\n",
    "    return common, not_common"
   ]
  },
  {
   "cell_type": "code",
   "execution_count": 12,
   "id": "aff4bb45",
   "metadata": {},
   "outputs": [],
   "source": [
    "Mainstream = [\"One Punch Man\", \"Attack On Titan\", \"One Piece\", \"Sword Art Online\", \"Bleach\", \"Dragon Ball Z\", \"One Piece\"]\n",
    "must_watch = [\"Full Metal Alchemist\", \"Code Geass\", \"Death Note\", \"Stein's Gate\", \"The Devil is a Part Timer!\", \"One Piece\", \"Attack On Titan\"]"
   ]
  },
  {
   "cell_type": "code",
   "execution_count": 13,
   "id": "6bf80c1b",
   "metadata": {
    "scrolled": true
   },
   "outputs": [
    {
     "name": "stdout",
     "output_type": "stream",
     "text": [
      "['Attack On Titan', 'One Piece']\n",
      "['One Punch Man', 'Death Note', 'Full Metal Alchemist', 'Code Geass', 'Bleach', 'Sword Art Online', 'The Devil is a Part Timer!', 'Dragon Ball Z', \"Stein's Gate\"]\n"
     ]
    }
   ],
   "source": [
    "common, not_common = f(Mainstream, must_watch)\n",
    "print(common)\n",
    "print(not_common)"
   ]
  },
  {
   "cell_type": "markdown",
   "id": "ba57a3ab",
   "metadata": {},
   "source": [
    "# Q6"
   ]
  },
  {
   "cell_type": "markdown",
   "id": "5714c003",
   "metadata": {},
   "source": [
    "Given a list and 2 indices as input, return the sub-list enclosed within these 2 indices. It should\n",
    "contain every second element.\n",
    "E.g.\n",
    "Input f([2,3,5,7,11,13,17,19,23,29,31,37,41], 2, 9)\n",
    "Return [5, 11, 17, 23]"
   ]
  },
  {
   "cell_type": "code",
   "execution_count": 14,
   "id": "3f885c1f",
   "metadata": {},
   "outputs": [],
   "source": [
    "def f(lst, start, end):\n",
    "    return lst[start:end:2]"
   ]
  },
  {
   "cell_type": "code",
   "execution_count": 15,
   "id": "f93ef151",
   "metadata": {
    "scrolled": true
   },
   "outputs": [
    {
     "name": "stdout",
     "output_type": "stream",
     "text": [
      "[5, 11, 17, 23]\n"
     ]
    }
   ],
   "source": [
    "lst = [2,3,5,7,11,13,17,19,23,29,31,37,41]\n",
    "sub_lst = f(lst, 2, 9)\n",
    "print(sub_lst)"
   ]
  },
  {
   "cell_type": "markdown",
   "id": "b4457c79",
   "metadata": {},
   "source": [
    "# Q7"
   ]
  },
  {
   "cell_type": "markdown",
   "id": "0b0926fc",
   "metadata": {},
   "source": [
    "Calculate the factorial of a number using lambda function."
   ]
  },
  {
   "cell_type": "code",
   "execution_count": 16,
   "id": "35421998",
   "metadata": {},
   "outputs": [],
   "source": [
    "factorial = lambda n: 1 if n == 0 else n * factorial(n-1)"
   ]
  },
  {
   "cell_type": "code",
   "execution_count": 17,
   "id": "221a57a5",
   "metadata": {},
   "outputs": [
    {
     "name": "stdout",
     "output_type": "stream",
     "text": [
      "120\n"
     ]
    }
   ],
   "source": [
    "n = 5\n",
    "print(factorial(n))"
   ]
  },
  {
   "cell_type": "markdown",
   "id": "39534302",
   "metadata": {},
   "source": [
    "# Q8"
   ]
  },
  {
   "cell_type": "raw",
   "id": "beaa1afb",
   "metadata": {},
   "source": [
    "Some neat tricks up her sleeve:\n",
    "Looking at the below code, write down the final values of A0, A1, ...An\n",
    "A0 = dict(zip(('a','b','c','d','e'),(1,2,3,4,5)))\n",
    "A1 = range(10)\n",
    "A2 = sorted([i for i in A1 if i in A0])\n",
    "A3 = sorted([A0[s] for s in A0])\n",
    "A4 = [i for i in A1 if i in A3]\n",
    "A5 = {i:i*i for i in A1}\n",
    "A6 = [[i,i*i] for i in A1]\n",
    "A7 = reduce(lambda x,y: x+y, [10,23, -45, 33])\n",
    "A8 = map(lambda x: x*2, [1,2,3,4])\n",
    "A9 = filter(lambda x: len(x) >3, [“I” , “want”, “to”, “learn”, “python”])"
   ]
  },
  {
   "cell_type": "markdown",
   "id": "ef21d871",
   "metadata": {},
   "source": [
    "Answer"
   ]
  },
  {
   "cell_type": "raw",
   "id": "94bdfcb9",
   "metadata": {},
   "source": [
    "A0 = {'a': 1, 'b': 2, 'c': 3, 'd': 4, 'e': 5}\n",
    "A1 = range(0, 10) # A sequence of numbers from 0 to 9\n",
    "A2 = [] # An empty list since no element in A1 is present in A0\n",
    "A3 = [1, 2, 3, 4, 5] # A list of values corresponding to keys in A0\n",
    "A4 = [] # An empty list since no element in A1 is present in A3\n",
    "A5 = {0: 0, 1: 1, 2: 4, 3: 9, 4: 16, 5: 25, 6: 36, 7: 49, 8: 64, 9: 81} # A dictionary of square values for each number in A1\n",
    "A6 = [[0, 0], [1, 1], [2, 4], [3, 9], [4, 16], [5, 25], [6, 36], [7, 49], [8, 64], [9, 81]] # A nested list of each number in A1 along with its square value\n",
    "A7 = 21 # The sum of all elements in the given list [10,23, -45, 33]\n",
    "A8 = [2, 4, 6, 8] # A list of each element in the original list multiplied by 2\n",
    "A9 = ['want', 'learn', 'python'] # A list of all elements in the original list that have length greater than 3."
   ]
  },
  {
   "cell_type": "markdown",
   "id": "6dfa6094",
   "metadata": {},
   "source": [
    "# Q9"
   ]
  },
  {
   "cell_type": "markdown",
   "id": "5c656db0",
   "metadata": {},
   "source": [
    "Write a func that takes 3 args:\n",
    "from_date - string representing a date in the form of 'yy-mm-dd'\n",
    "to_date - string representing a date in the form of 'yy-mm-dd'\n",
    "difference - int\n",
    "Returns True if from_date and to_date are less than difference days away from each other, else\n",
    "returns False."
   ]
  },
  {
   "cell_type": "code",
   "execution_count": 18,
   "id": "ff6d64ea",
   "metadata": {},
   "outputs": [],
   "source": [
    "from datetime import datetime\n",
    "\n",
    "def f(from_date, to_date, difference):\n",
    "    from_date = datetime.strptime(from_date, '%y-%m-%d')\n",
    "    to_date = datetime.strptime(to_date, '%y-%m-%d')\n",
    "    delta = abs((to_date - from_date).days)\n",
    "    if delta <= difference:\n",
    "        return True\n",
    "    else:\n",
    "        return False"
   ]
  },
  {
   "cell_type": "code",
   "execution_count": 19,
   "id": "3828c78b",
   "metadata": {
    "scrolled": false
   },
   "outputs": [
    {
     "name": "stdout",
     "output_type": "stream",
     "text": [
      "False\n"
     ]
    }
   ],
   "source": [
    "from_date = '15-01-01'\n",
    "to_date = '24-06-01'\n",
    "difference = 180\n",
    "result = f(from_date, to_date, difference)\n",
    "print(result)"
   ]
  },
  {
   "cell_type": "markdown",
   "id": "7d63dc71",
   "metadata": {},
   "source": [
    "# Q10"
   ]
  },
  {
   "cell_type": "markdown",
   "id": "af191e16",
   "metadata": {},
   "source": [
    "Of date and days\n",
    "Write a func that takes 2 args:\n",
    "date - string representing a date in the form of 'yy-mm-dd'\n",
    "n - integer\n",
    "Returns the string representation of date n days before 'date'\n",
    "E.g. f('16-12-10', 11) should return '16-11-29'"
   ]
  },
  {
   "cell_type": "code",
   "execution_count": 20,
   "id": "80eb86a5",
   "metadata": {},
   "outputs": [],
   "source": [
    "from datetime import datetime, timedelta\n",
    "\n",
    "def f(date, n):\n",
    "    date_obj = datetime.strptime(date, '%y-%m-%d')\n",
    "    new_date = date_obj - timedelta(days=n)\n",
    "    return datetime.strftime(new_date, '%y-%m-%d')"
   ]
  },
  {
   "cell_type": "code",
   "execution_count": 21,
   "id": "b17e3c8b",
   "metadata": {
    "scrolled": true
   },
   "outputs": [
    {
     "name": "stdout",
     "output_type": "stream",
     "text": [
      "16-11-29\n"
     ]
    }
   ],
   "source": [
    "date = '16-12-10'\n",
    "n = 11\n",
    "result = f(date, n)\n",
    "print(result)"
   ]
  },
  {
   "cell_type": "markdown",
   "id": "a0bb86ba",
   "metadata": {},
   "source": [
    "# Q11"
   ]
  },
  {
   "cell_type": "raw",
   "id": "010bea72",
   "metadata": {},
   "source": [
    "Something fishy there -\n",
    "Find output of following:\n",
    "def f(x,l=[]):\n",
    "for i in range(x):\n",
    "l.append(i*i)\n",
    "print(l)\n",
    "f(2)\n",
    "f(3,[3,2,1])\n",
    "f(3)"
   ]
  },
  {
   "cell_type": "code",
   "execution_count": 22,
   "id": "6c45b119",
   "metadata": {},
   "outputs": [],
   "source": [
    "def f(x,l=[]):\n",
    "    for i in range(x):\n",
    "        l.append(i*i)\n",
    "    print(l)"
   ]
  },
  {
   "cell_type": "code",
   "execution_count": 23,
   "id": "11486815",
   "metadata": {},
   "outputs": [
    {
     "name": "stdout",
     "output_type": "stream",
     "text": [
      "[0, 1]\n"
     ]
    }
   ],
   "source": [
    "f(2) #Expected-Output: [0, 1]"
   ]
  },
  {
   "cell_type": "code",
   "execution_count": 24,
   "id": "99e23c87",
   "metadata": {},
   "outputs": [
    {
     "name": "stdout",
     "output_type": "stream",
     "text": [
      "[3, 2, 1, 0, 1, 4]\n"
     ]
    }
   ],
   "source": [
    "f(3,[3,2,1]) #Expected-Output: [3, 2, 1, 0, 1, 4]"
   ]
  },
  {
   "cell_type": "code",
   "execution_count": 25,
   "id": "ebd0a9b6",
   "metadata": {},
   "outputs": [
    {
     "name": "stdout",
     "output_type": "stream",
     "text": [
      "[0, 1, 0, 1, 4]\n"
     ]
    }
   ],
   "source": [
    "f(3) #Expected-Output: [0, 1, 0, 1, 4]"
   ]
  },
  {
   "cell_type": "markdown",
   "id": "5f83c79b",
   "metadata": {},
   "source": [
    "# **THE END**"
   ]
  }
 ],
 "metadata": {
  "kernelspec": {
   "display_name": "Python 3 (ipykernel)",
   "language": "python",
   "name": "python3"
  },
  "language_info": {
   "codemirror_mode": {
    "name": "ipython",
    "version": 3
   },
   "file_extension": ".py",
   "mimetype": "text/x-python",
   "name": "python",
   "nbconvert_exporter": "python",
   "pygments_lexer": "ipython3",
   "version": "3.10.9"
  }
 },
 "nbformat": 4,
 "nbformat_minor": 5
}
